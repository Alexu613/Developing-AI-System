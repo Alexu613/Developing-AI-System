{
 "cells": [
  {
   "cell_type": "code",
   "execution_count": 98,
   "metadata": {},
   "outputs": [
    {
     "name": "stdout",
     "output_type": "stream",
     "text": [
      "AlexBot is ready. Tape 'exit' to quit the conversation\n",
      "ChniniBot : Salut ! Comment puis-je vous aider aujourd'hui ?\n",
      "--------------------------------------------------\n",
      "Thanks for choosing AlexBot. See you soon !\n"
     ]
    }
   ],
   "source": [
    "import os \n",
    "import openai\n",
    "from time import sleep\n",
    "from tqdm import tgrange, tqdm_notebook\n",
    "\n",
    "#Bloc\n",
    "MESSAGES = [{\"role\":\"system\", \"content\": \"You're a Chatbot, your name is AlexBot you've been created by Alexandre Ohayon, you can answer any customer's questions by summarizing your answer.\"}]\n",
    "#Dialog Box ask your question to the ChatBot:\n",
    "\n",
    "try:\n",
    "    print(\"AlexBot is ready. Tape 'exit' to quit the conversation\")\n",
    "\n",
    "    #Start a session:\n",
    "    while True:\n",
    "        #Enter your question:\n",
    "        USER_PROMPT = input(\"Enter your message here: \") #Use the dialog box\n",
    "        #Tape exist in lower character to quit the conversation with the Bot.\n",
    "        if USER_PROMPT.lower() == \"exit\": \n",
    "            print(\"Thanks for choosing AlexBot. See you soon !\") #Message from system\n",
    "            break #Session closed\n",
    "            \n",
    "        #If a conversation exists then add user question to the Bloc in line 7:\n",
    "        MESSAGES.append({\"role\":\"user\", \"content\": USER_PROMPT}) #Add the question into the list:\n",
    "        user_question = {\"role\":\"user\", \"content\": USER_PROMPT}\n",
    "        #print(f\"User_question : {USER_PROMPT}\")\n",
    "\n",
    "                \n",
    "        #Pass MESSAGES through the LLM to get response from the AI Agent:\n",
    "        client = openai.OpenAI(organization=None,\n",
    "                                project=None, \n",
    "                                timeout=60*5, #5 minutes and break after that\n",
    "                                max_retries=2,\n",
    "                                api_key=API_KEY)\n",
    "            \n",
    "        #Response from the Intelligent Agent:\n",
    "        # Add the appropriate parameters to the decorator\n",
    "        response = client.chat.completions.create(\n",
    "            model='gpt-4o-mini',\n",
    "            messages=MESSAGES,\n",
    "            max_tokens=300,\n",
    "            temperature=0,\n",
    "            top_p=0.9,\n",
    "            stop=[\"\\n\"]\n",
    "        )\n",
    "\n",
    "        assistant_dict = {\"role\":\"assistant\", \"content\": response.choices[0].message.content}\n",
    "        print(f\"ChniniBot : {assistant_dict[\"content\"]}\")\n",
    "        print(\"--------------------------------------------------\")\n",
    "        #Add the question into the list:\n",
    "        MESSAGES.append(assistant_dict)\n",
    "\n",
    "except Exception as e:\n",
    "    print(\"Error :\", e)"
   ]
  },
  {
   "cell_type": "code",
   "execution_count": 101,
   "metadata": {},
   "outputs": [
    {
     "name": "stdout",
     "output_type": "stream",
     "text": [
      "{\n",
      "  \"plats\": [\n",
      "    { \"nom\": \"Sushi\", \"pays\": \"Japon\" },\n",
      "    { \"nom\": \"Pizza\", \"pays\": \"Italie\" },\n",
      "    { \"nom\": \"Tacos\", \"pays\": \"Mexique\" },\n",
      "    { \"nom\": \"Couscous\", \"pays\": \"Maroc\" },\n",
      "    { \"nom\": \"Paella\", \"pays\": \"Espagne\" },\n",
      "    { \"nom\": \"Croissant\", \"pays\": \"France\" },\n",
      "    { \"nom\": \"Hamburger\", \"pays\": \"États-Unis\" },\n",
      "    { \"nom\": \"Poutine\", \"pays\": \"Canada\" },\n",
      "    { \"nom\": \"Kimchi\", \"pays\": \"Corée du Sud\" },\n",
      "    { \"nom\": \"Pad Thai\", \"pays\": \"Thaïlande\" }\n",
      "  ]\n",
      "}\n"
     ]
    }
   ],
   "source": [
    "import openai\n",
    "import os\n",
    "\n",
    "# Initialisation du client OpenAI avec la clé API (via variable d'environnement)\n",
    "client = openai.OpenAI(organization=None,\n",
    "                                project=None, \n",
    "                                timeout=60*5, #5 minutes and break after that\n",
    "                                max_retries=2,\n",
    "                                api_key=API_KEY) # Remplace si besoin\n",
    "\n",
    "def get_famous_dishes_by_country():\n",
    "    # Prompt demandé\n",
    "    prompt = (\n",
    "        \"Donne-moi une liste des 10 plats les plus connus dans le monde, \"\n",
    "        \"triée par pays, au format JSON. Pour chaque plat, indique le nom du plat et le pays d'origine. \"\n",
    "        \"Utilise ce format : \"\n",
    "        '{ \"plats\": [ { \"nom\": \"Sushi\", \"pays\": \"Japon\" }, ... ] }'\n",
    "    )\n",
    "\n",
    "    # Appel à l'API avec la méthode chat.completions.create\n",
    "    response = client.chat.completions.create(\n",
    "        model=\"gpt-4o\",  # ou \"gpt-4\"\n",
    "        messages=[\n",
    "            {\"role\": \"system\", \"content\": \"Tu es un assistant culinaire qui fournit des réponses en JSON.\"},\n",
    "            {\"role\": \"user\", \"content\": prompt}\n",
    "        ],\n",
    "        temperature=0.3,\n",
    "        max_tokens=500,\n",
    "        response_format={\"type\":\"json_object\"} # Nécessite GPT-4-turbo ou GPT-4o\n",
    "    )\n",
    "\n",
    "    return response.choices[0].message.content\n",
    "\n",
    "# Utilisation\n",
    "if __name__ == \"__main__\":\n",
    "    json_result = get_famous_dishes_by_country()\n",
    "    print(json_result)\n"
   ]
  },
  {
   "cell_type": "code",
   "execution_count": null,
   "metadata": {},
   "outputs": [],
   "source": []
  },
  {
   "cell_type": "code",
   "execution_count": null,
   "metadata": {},
   "outputs": [],
   "source": []
  }
 ],
 "metadata": {
  "kernelspec": {
   "display_name": "Python 3",
   "language": "python",
   "name": "python3"
  },
  "language_info": {
   "codemirror_mode": {
    "name": "ipython",
    "version": 3
   },
   "file_extension": ".py",
   "mimetype": "text/x-python",
   "name": "python",
   "nbconvert_exporter": "python",
   "pygments_lexer": "ipython3",
   "version": "3.13.0"
  }
 },
 "nbformat": 4,
 "nbformat_minor": 2
}
